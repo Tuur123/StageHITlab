{
 "cells": [
  {
   "cell_type": "code",
   "execution_count": 20,
   "metadata": {},
   "outputs": [],
   "source": [
    "import pandas as pd\n",
    "import cv2\n",
    "\n",
    "df = pd.read_csv('gaze_positions.csv')"
   ]
  },
  {
   "cell_type": "code",
   "execution_count": 22,
   "metadata": {},
   "outputs": [],
   "source": [
    "vidcap = cv2.VideoCapture('world.mp4')\n",
    "success, frame = vidcap.read()\n",
    "\n",
    "video_fps = vidcap.get(cv2.CAP_PROP_FPS)\n",
    "total_frames = vidcap.get(cv2.CAP_PROP_FRAME_COUNT)\n",
    "height = int(vidcap.get(cv2.CAP_PROP_FRAME_HEIGHT))\n",
    "width = int(vidcap.get(cv2.CAP_PROP_FRAME_WIDTH))\n",
    "\n",
    "df['X'] = df['norm_pos_x'] * width\n",
    "df['Y'] = height - df['norm_pos_y'] * height\n",
    "df = df[['world_index', 'X', 'Y']]\n",
    "\n",
    "df = df.loc[df['Y'] > 0]\n",
    "\n",
    "df = df.astype({'world_index': int, 'X': int, 'Y': int})\n",
    "\n",
    "writer = cv2.VideoWriter(f\"output.mp4\", cv2.VideoWriter_fourcc(*'mp4v'), video_fps[0], (width, height))\n",
    "\n",
    "frame_idx = 0\n",
    "while success:\n",
    "\n",
    "    for row in df.loc[df['world_index'] == frame_idx].iterrows():\n",
    "        cv2.circle(frame, (row[1][1], row[1][2]), 50, (255, 255, 0), cv2.FILLED)\n",
    "\n",
    "    writer.write(frame)\n",
    "    success, frame = vidcap.read()\n",
    "    frame_idx += 1\n",
    "\n",
    "vidcap.release()\n",
    "writer.release()"
   ]
  },
  {
   "cell_type": "code",
   "execution_count": null,
   "metadata": {},
   "outputs": [],
   "source": [
    "vidcap = cv2.VideoCapture('world.mp4')\n",
    "success, frame = vidcap.read()\n",
    "\n",
    "video_fps = vidcap.get(cv2.CAP_PROP_FPS)\n",
    "total_frames = vidcap.get(cv2.CAP_PROP_FRAME_COUNT)\n",
    "height = int(vidcap.get(cv2.CAP_PROP_FRAME_HEIGHT))\n",
    "width = int(vidcap.get(cv2.CAP_PROP_FRAME_WIDTH))\n",
    "\n",
    "df['X'] = df['norm_pos_x'] * width\n",
    "df['Y'] = height - df['norm_pos_y'] * height\n",
    "df = df[['world_index', 'X', 'Y']]\n",
    "\n",
    "df = df.loc[df['Y'] > 0]\n",
    "df = df.astype({'world_index': int, 'X': int, 'Y': int})\n",
    "\n",
    "\n",
    "\n",
    "\n",
    "frame_idx = 0\n",
    "while success:\n",
    "\n",
    "    for row in df.loc[df['world_index'] == frame_idx].iterrows():\n",
    "        cv2.circle(frame, (row[1][1], row[1][2]), 50, (255, 255, 0), cv2.FILLED)\n",
    "\n",
    "\n",
    "    success, frame = vidcap.read()\n",
    "    frame_idx += 1\n",
    "\n",
    "vidcap.release()"
   ]
  }
 ],
 "metadata": {
  "interpreter": {
   "hash": "59f46f3a3121fd582e20dd4d1e3a01837a6af6a9d4882bf236221b9e3ca28403"
  },
  "kernelspec": {
   "display_name": "Python 3.9.5 ('movingEyetrackerHeatmap': venv)",
   "language": "python",
   "name": "python3"
  },
  "language_info": {
   "codemirror_mode": {
    "name": "ipython",
    "version": 3
   },
   "file_extension": ".py",
   "mimetype": "text/x-python",
   "name": "python",
   "nbconvert_exporter": "python",
   "pygments_lexer": "ipython3",
   "version": "3.9.5"
  },
  "orig_nbformat": 4
 },
 "nbformat": 4,
 "nbformat_minor": 2
}

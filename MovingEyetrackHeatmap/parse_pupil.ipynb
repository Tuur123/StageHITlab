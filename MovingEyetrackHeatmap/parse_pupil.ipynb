{
 "cells": [
  {
   "cell_type": "code",
   "execution_count": 2,
   "metadata": {},
   "outputs": [
    {
     "data": {
      "text/plain": [
       "(689, 1400, 3)"
      ]
     },
     "execution_count": 2,
     "metadata": {},
     "output_type": "execute_result"
    }
   ],
   "source": [
    "import pandas as pd\n",
    "import numpy as np\n",
    "import cv2\n",
    "import matplotlib.pyplot as plt\n",
    "\n",
    "df = pd.read_csv('gaze_positions.csv')\n",
    "panorama = cv2.imread('panorama.png')\n",
    "\n",
    "# Initiate SIFT detector\n",
    "sift = cv2.SIFT_create()\n",
    "\n",
    "FLANN_INDEX_KDTREE = 1\n",
    "MIN_MATCH_COUNT = 10\n",
    "index_params = dict(algorithm = FLANN_INDEX_KDTREE, trees = 5)\n",
    "search_params = dict(checks = 50)\n",
    "\n",
    "flann = cv2.FlannBasedMatcher(index_params, search_params)\n",
    "kp2, des2 = sift.detectAndCompute(panorama, None)\n",
    "\n",
    "vidcap = cv2.VideoCapture('world.mp4')\n",
    "success, frame = vidcap.read()\n",
    "\n",
    "video_fps = vidcap.get(cv2.CAP_PROP_FPS)\n",
    "total_frames = vidcap.get(cv2.CAP_PROP_FRAME_COUNT)\n",
    "height = int(vidcap.get(cv2.CAP_PROP_FRAME_HEIGHT))\n",
    "width = int(vidcap.get(cv2.CAP_PROP_FRAME_WIDTH))\n",
    "\n",
    "df['X'] = df['norm_pos_x'] * width\n",
    "df['Y'] = height - df['norm_pos_y'] * height\n",
    "df = df[['world_index', 'X', 'Y']]\n",
    "\n",
    "df = df.astype({'world_index': int, 'X': int, 'Y': int})\n",
    "\n",
    "panorama.shape"
   ]
  },
  {
   "cell_type": "code",
   "execution_count": 3,
   "metadata": {},
   "outputs": [
    {
     "name": "stdout",
     "output_type": "stream",
     "text": [
      "Done 100%"
     ]
    }
   ],
   "source": [
    "writer = cv2.VideoWriter(f\"output.mp4\", cv2.VideoWriter_fourcc(*'mp4v'), video_fps, (panorama.shape[1], panorama.shape[0]))\n",
    "frame_idx = 0\n",
    "\n",
    "while success:\n",
    "\n",
    "    panorama_img = panorama\n",
    "\n",
    "    # find the keypoints and descriptors with SIFT\n",
    "    kp1, des1 = sift.detectAndCompute(frame, None)\n",
    "\n",
    "    matches = flann.knnMatch(des1,des2,k=2)\n",
    "\n",
    "    # store all the good matches as per Lowe's ratio test.\n",
    "    good = []\n",
    "    for m,n in matches:\n",
    "        if m.distance < 0.7 * n.distance:\n",
    "            good.append(m)\n",
    "\n",
    "    if len(good)> MIN_MATCH_COUNT:\n",
    "        src_pts = np.float32([ kp1[m.queryIdx].pt for m in good ]).reshape(-1,1,2)\n",
    "        dst_pts = np.float32([ kp2[m.trainIdx].pt for m in good ]).reshape(-1,1,2)\n",
    "\n",
    "        M, mask = cv2.findHomography(src_pts, dst_pts, cv2.RANSAC, 5.0)\n",
    "        matchesMask = mask.ravel().tolist()\n",
    "        \n",
    "        h,w,c = frame.shape\n",
    "        pts = np.float32([ [0,0],[0,h-1],[w-1,h-1],[w-1,0] ]).reshape(-1,1,2)\n",
    "        dst = cv2.perspectiveTransform(pts, M)\n",
    "        panorama_img = cv2.polylines(panorama_img, [np.int32(dst)], True, 255, 3, cv2.LINE_AA)\n",
    "\n",
    "        # draw_params = dict(matchColor = (0,255,0), # draw matches in green color\n",
    "        #             singlePointColor = None,\n",
    "        #             matchesMask = matchesMask, # draw only inliers\n",
    "        #             flags = 2)\n",
    "\n",
    "        # result = cv2.drawMatches(frame, kp1, panorama_img, kp2, good, panorama_img, **draw_params)\n",
    "\n",
    "        writer.write(panorama_img)\n",
    "\n",
    "    else:\n",
    "        matchesMask = None\n",
    "\n",
    "\n",
    "\n",
    "    success, frame = vidcap.read()\n",
    "    frame_idx += 1\n",
    "\n",
    "    print(f\"\\rDone {round((frame_idx / total_frames) * 100)}%\", end='')\n",
    "\n",
    "writer.release()\n",
    "vidcap.release()"
   ]
  },
  {
   "cell_type": "code",
   "execution_count": 10,
   "metadata": {},
   "outputs": [
    {
     "data": {
      "text/plain": [
       "3"
      ]
     },
     "execution_count": 10,
     "metadata": {},
     "output_type": "execute_result"
    }
   ],
   "source": [
    "cv2.DRAW_MATCHES_FLAGS_NOT_DRAW_SINGLE_POINTS + cv2.DRAW_MATCHES_FLAGS_DRAW_OVER_OUTIMG"
   ]
  }
 ],
 "metadata": {
  "interpreter": {
   "hash": "59f46f3a3121fd582e20dd4d1e3a01837a6af6a9d4882bf236221b9e3ca28403"
  },
  "kernelspec": {
   "display_name": "Python 3.9.5 ('movingEyetrackerHeatmap': venv)",
   "language": "python",
   "name": "python3"
  },
  "language_info": {
   "codemirror_mode": {
    "name": "ipython",
    "version": 3
   },
   "file_extension": ".py",
   "mimetype": "text/x-python",
   "name": "python",
   "nbconvert_exporter": "python",
   "pygments_lexer": "ipython3",
   "version": "3.9.5"
  },
  "orig_nbformat": 4
 },
 "nbformat": 4,
 "nbformat_minor": 2
}

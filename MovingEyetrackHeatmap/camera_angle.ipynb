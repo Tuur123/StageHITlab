{
 "cells": [
  {
   "cell_type": "code",
   "execution_count": 22,
   "metadata": {},
   "outputs": [],
   "source": [
    "import numpy as np\n",
    "import cv2\n",
    "from matplotlib import pyplot as plt\n",
    "\n",
    "\n",
    "vidcap = cv2.VideoCapture('world.mp4')\n",
    "success, frame = vidcap.read()\n",
    "\n",
    "video_fps = vidcap.get(cv2.CAP_PROP_FPS)\n",
    "total_frames = vidcap.get(cv2.CAP_PROP_FRAME_COUNT)\n",
    "height = int(vidcap.get(cv2.CAP_PROP_FRAME_HEIGHT))\n",
    "width = int(vidcap.get(cv2.CAP_PROP_FRAME_WIDTH))\n",
    "\n",
    "vidcap.set(cv2.CAP_PROP_POS_FRAMES, 100)\n",
    "succes, frame2 = vidcap.read()"
   ]
  },
  {
   "cell_type": "code",
   "execution_count": 23,
   "metadata": {},
   "outputs": [],
   "source": [
    "MIN_MATCH_COUNT = 10\n",
    "img1 = frame\n",
    "img2 = cv2.imread('panorama.png')\n",
    "\n",
    "# Initiate SIFT detector\n",
    "sift = cv2.SIFT_create()\n",
    "\n",
    "# find the keypoints and descriptors with SIFT\n",
    "kp1, des1 = sift.detectAndCompute(img1, None)\n",
    "kp2, des2 = sift.detectAndCompute(img2, None)\n",
    "FLANN_INDEX_KDTREE = 1\n",
    "index_params = dict(algorithm = FLANN_INDEX_KDTREE, trees = 5)\n",
    "search_params = dict(checks = 50)\n",
    "flann = cv2.FlannBasedMatcher(index_params, search_params)\n",
    "matches = flann.knnMatch(des1,des2,k=2)\n",
    "\n",
    "# store all the good matches as per Lowe's ratio test.\n",
    "good = []\n",
    "for m,n in matches:\n",
    "    if m.distance < 0.7*n.distance:\n",
    "        good.append(m)"
   ]
  },
  {
   "cell_type": "code",
   "execution_count": 24,
   "metadata": {},
   "outputs": [],
   "source": [
    "if len(good)>MIN_MATCH_COUNT:\n",
    "    src_pts = np.float32([ kp1[m.queryIdx].pt for m in good ]).reshape(-1,1,2)\n",
    "    dst_pts = np.float32([ kp2[m.trainIdx].pt for m in good ]).reshape(-1,1,2)\n",
    "\n",
    "    M, mask = cv2.findHomography(src_pts, dst_pts, cv2.RANSAC,5.0)\n",
    "    matchesMask = mask.ravel().tolist()\n",
    "    \n",
    "    h,w,c = img1.shape\n",
    "    pts = np.float32([ [0,0],[0,h-1],[w-1,h-1],[w-1,0] ]).reshape(-1,1,2)\n",
    "    dst = cv2.perspectiveTransform(pts,M)\n",
    "    img2 = cv2.polylines(img2,[np.int32(dst)],True,255,3, cv2.LINE_AA)\n",
    "\n",
    "else:\n",
    "    print( \"Not enough matches are found - {}/{}\".format(len(good), MIN_MATCH_COUNT) )\n",
    "    matchesMask = None"
   ]
  },
  {
   "cell_type": "code",
   "execution_count": 41,
   "metadata": {},
   "outputs": [
    {
     "ename": "error",
     "evalue": "OpenCV(4.5.5) D:\\a\\opencv-python\\opencv-python\\opencv\\modules\\features2d\\src\\draw.cpp:156: error: (-201:Incorrect size of input array) outImg has size less than need to draw img1 and img2 together in function 'cv::_prepareImgAndDrawKeypoints'\n",
     "output_type": "error",
     "traceback": [
      "\u001b[1;31m---------------------------------------------------------------------------\u001b[0m",
      "\u001b[1;31merror\u001b[0m                                     Traceback (most recent call last)",
      "\u001b[1;32mc:\\Users\\Arthur\\Desktop\\school\\StageHITlab\\MovingEyetrackHeatmap\\camera_angle.ipynb Cell 4'\u001b[0m in \u001b[0;36m<cell line: 6>\u001b[1;34m()\u001b[0m\n\u001b[0;32m      <a href='vscode-notebook-cell:/c%3A/Users/Arthur/Desktop/school/StageHITlab/MovingEyetrackHeatmap/camera_angle.ipynb#ch0000003?line=0'>1</a>\u001b[0m draw_params \u001b[39m=\u001b[39m \u001b[39mdict\u001b[39m(matchColor \u001b[39m=\u001b[39m (\u001b[39m0\u001b[39m,\u001b[39m255\u001b[39m,\u001b[39m0\u001b[39m), \u001b[39m# draw matches in green color\u001b[39;00m\n\u001b[0;32m      <a href='vscode-notebook-cell:/c%3A/Users/Arthur/Desktop/school/StageHITlab/MovingEyetrackHeatmap/camera_angle.ipynb#ch0000003?line=1'>2</a>\u001b[0m                    singlePointColor \u001b[39m=\u001b[39m \u001b[39mNone\u001b[39;00m,\n\u001b[0;32m      <a href='vscode-notebook-cell:/c%3A/Users/Arthur/Desktop/school/StageHITlab/MovingEyetrackHeatmap/camera_angle.ipynb#ch0000003?line=2'>3</a>\u001b[0m                    matchesMask \u001b[39m=\u001b[39m matchesMask, \u001b[39m# draw only inliers\u001b[39;00m\n\u001b[0;32m      <a href='vscode-notebook-cell:/c%3A/Users/Arthur/Desktop/school/StageHITlab/MovingEyetrackHeatmap/camera_angle.ipynb#ch0000003?line=3'>4</a>\u001b[0m                    flags \u001b[39m=\u001b[39m \u001b[39m3\u001b[39m)\n\u001b[1;32m----> <a href='vscode-notebook-cell:/c%3A/Users/Arthur/Desktop/school/StageHITlab/MovingEyetrackHeatmap/camera_angle.ipynb#ch0000003?line=5'>6</a>\u001b[0m img3 \u001b[39m=\u001b[39m cv2\u001b[39m.\u001b[39mdrawMatches(img1,kp1,img2,kp2,good,\u001b[39mNone\u001b[39;00m,\u001b[39m*\u001b[39m\u001b[39m*\u001b[39mdraw_params)\n\u001b[0;32m      <a href='vscode-notebook-cell:/c%3A/Users/Arthur/Desktop/school/StageHITlab/MovingEyetrackHeatmap/camera_angle.ipynb#ch0000003?line=7'>8</a>\u001b[0m plt\u001b[39m.\u001b[39mfigure(figsize\u001b[39m=\u001b[39m(\u001b[39m16\u001b[39m, \u001b[39m6\u001b[39m), dpi\u001b[39m=\u001b[39m\u001b[39m80\u001b[39m)\n\u001b[0;32m      <a href='vscode-notebook-cell:/c%3A/Users/Arthur/Desktop/school/StageHITlab/MovingEyetrackHeatmap/camera_angle.ipynb#ch0000003?line=8'>9</a>\u001b[0m plt\u001b[39m.\u001b[39mimshow(img3)\n",
      "\u001b[1;31merror\u001b[0m: OpenCV(4.5.5) D:\\a\\opencv-python\\opencv-python\\opencv\\modules\\features2d\\src\\draw.cpp:156: error: (-201:Incorrect size of input array) outImg has size less than need to draw img1 and img2 together in function 'cv::_prepareImgAndDrawKeypoints'\n"
     ]
    }
   ],
   "source": [
    "draw_params = dict(matchColor = (0,255,0), # draw matches in green color\n",
    "                   singlePointColor = None,\n",
    "                   matchesMask = matchesMask, # draw only inliers\n",
    "                   flags = 3)\n",
    "                   \n",
    "img3 = cv2.drawMatches(img1,kp1,img2,kp2,good,None,**draw_params)\n",
    "\n",
    "plt.figure(figsize=(16, 6), dpi=80)\n",
    "plt.imshow(img3)\n",
    "plt.show()"
   ]
  },
  {
   "cell_type": "code",
   "execution_count": 26,
   "metadata": {},
   "outputs": [
    {
     "data": {
      "text/plain": [
       "array([[ 1.04010376e+00, -1.36256805e-01,  4.32294526e+02],\n",
       "       [ 1.22312156e-01,  4.94279565e-01,  2.57403042e+02],\n",
       "       [ 3.89039704e-04, -1.72306323e-04,  1.00000000e+00]])"
      ]
     },
     "execution_count": 26,
     "metadata": {},
     "output_type": "execute_result"
    }
   ],
   "source": [
    "M"
   ]
  },
  {
   "cell_type": "code",
   "execution_count": 27,
   "metadata": {},
   "outputs": [
    {
     "data": {
      "text/plain": [
       "2680"
      ]
     },
     "execution_count": 27,
     "metadata": {},
     "output_type": "execute_result"
    }
   ],
   "source": [
    "img2.shape[1] + img1.shape[1]"
   ]
  }
 ],
 "metadata": {
  "interpreter": {
   "hash": "59f46f3a3121fd582e20dd4d1e3a01837a6af6a9d4882bf236221b9e3ca28403"
  },
  "kernelspec": {
   "display_name": "Python 3.9.5 ('movingEyetrackerHeatmap': venv)",
   "language": "python",
   "name": "python3"
  },
  "language_info": {
   "codemirror_mode": {
    "name": "ipython",
    "version": 3
   },
   "file_extension": ".py",
   "mimetype": "text/x-python",
   "name": "python",
   "nbconvert_exporter": "python",
   "pygments_lexer": "ipython3",
   "version": "3.9.5"
  },
  "orig_nbformat": 4
 },
 "nbformat": 4,
 "nbformat_minor": 2
}

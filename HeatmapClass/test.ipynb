{
 "cells": [
  {
   "cell_type": "code",
   "execution_count": 1,
   "metadata": {},
   "outputs": [],
   "source": [
    "import threading\n",
    "import cv2\n",
    "import numpy as np\n",
    "import pandas as pd\n",
    "from queue import Queue\n",
    "from multiprocessing.pool import ThreadPool\n",
    "from imutils.Panorama import Panorama"
   ]
  },
  {
   "cell_type": "code",
   "execution_count": 3,
   "metadata": {},
   "outputs": [],
   "source": [
    "data = pd.read_csv('waak/waak.csv')\n",
    "pan = cv2.imread('waak/waak_panorama.png')"
   ]
  },
  {
   "cell_type": "code",
   "execution_count": 23,
   "metadata": {},
   "outputs": [
    {
     "data": {
      "text/plain": [
       "True"
      ]
     },
     "execution_count": 23,
     "metadata": {},
     "output_type": "execute_result"
    }
   ],
   "source": [
    "data = data.fillna(0)\n",
    "data = data.astype({'X': int, 'Y': int})\n",
    "\n",
    "for row in data.iterrows():\n",
    "\n",
    "    cv2.circle(pan, (row[1][1], row[1][2]), 5, (0, 0, 255), cv2.FILLED)\n",
    "\n",
    "cv2.imwrite('test.png', pan)"
   ]
  }
 ],
 "metadata": {
  "interpreter": {
   "hash": "bff033b62c18ddf10f659cf04bb64be91ea98ddd9448a504dd9f98ae1c9ca16f"
  },
  "kernelspec": {
   "display_name": "Python 3.9.5 64-bit",
   "language": "python",
   "name": "python3"
  },
  "language_info": {
   "codemirror_mode": {
    "name": "ipython",
    "version": 3
   },
   "file_extension": ".py",
   "mimetype": "text/x-python",
   "name": "python",
   "nbconvert_exporter": "python",
   "pygments_lexer": "ipython3",
   "version": "3.9.5"
  },
  "orig_nbformat": 4
 },
 "nbformat": 4,
 "nbformat_minor": 2
}

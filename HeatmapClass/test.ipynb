{
 "cells": [
  {
   "cell_type": "code",
   "execution_count": 14,
   "metadata": {},
   "outputs": [],
   "source": [
    "import threading\n",
    "import cv2\n",
    "import numpy as np\n",
    "import pandas as pd\n",
    "from queue import Queue\n",
    "from multiprocessing.pool import ThreadPool\n",
    "from Converter import Convert2D\n",
    "from imutils.Panorama import Panorama\n",
    "from scipy.ndimage import gaussian_filter\n",
    "from PIL import Image, ImageTk\n",
    "import matplotlib.pyplot as plt"
   ]
  },
  {
   "cell_type": "code",
   "execution_count": 15,
   "metadata": {},
   "outputs": [],
   "source": [
    "vidcap = cv2.VideoCapture('waak/waak.mp4')"
   ]
  },
  {
   "cell_type": "code",
   "execution_count": 16,
   "metadata": {},
   "outputs": [],
   "source": [
    "vidcap.set(cv2.CAP_PROP_POS_FRAMES, 50)\n",
    "_, frame = vidcap.read()\n",
    "\n",
    "img = cv2.resize(src=frame, dsize=(200, 200))\n",
    "img = cv2.cvtColor(img, cv2.COLOR_BGR2RGB)\n",
    "img = Image.fromarray(img)\n"
   ]
  }
 ],
 "metadata": {
  "interpreter": {
   "hash": "bff033b62c18ddf10f659cf04bb64be91ea98ddd9448a504dd9f98ae1c9ca16f"
  },
  "kernelspec": {
   "display_name": "Python 3.9.5 64-bit",
   "language": "python",
   "name": "python3"
  },
  "language_info": {
   "codemirror_mode": {
    "name": "ipython",
    "version": 3
   },
   "file_extension": ".py",
   "mimetype": "text/x-python",
   "name": "python",
   "nbconvert_exporter": "python",
   "pygments_lexer": "ipython3",
   "version": "3.9.5"
  },
  "orig_nbformat": 4
 },
 "nbformat": 4,
 "nbformat_minor": 2
}

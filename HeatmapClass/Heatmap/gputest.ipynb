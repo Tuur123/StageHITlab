{
 "cells": [
  {
   "cell_type": "code",
   "execution_count": 1,
   "metadata": {},
   "outputs": [],
   "source": [
    "import cv2\n",
    "from HeatmapMaker import HeatmapMaker\n",
    "import matplotlib.pyplot as plt"
   ]
  },
  {
   "cell_type": "code",
   "execution_count": 2,
   "metadata": {},
   "outputs": [
    {
     "ename": "AttributeError",
     "evalue": "'NoneType' object has no attribute 'shape'",
     "output_type": "error",
     "traceback": [
      "\u001b[1;31m---------------------------------------------------------------------------\u001b[0m",
      "\u001b[1;31mAttributeError\u001b[0m                            Traceback (most recent call last)",
      "\u001b[1;32mc:\\Users\\Arthur\\Desktop\\StageHITlab\\HeatmapClass\\Heatmap\\gputest.ipynb Cell 2'\u001b[0m in \u001b[0;36m<cell line: 1>\u001b[1;34m()\u001b[0m\n\u001b[1;32m----> <a href='vscode-notebook-cell:/c%3A/Users/Arthur/Desktop/StageHITlab/HeatmapClass/Heatmap/gputest.ipynb#ch0000001?line=0'>1</a>\u001b[0m \u001b[39mmap\u001b[39m \u001b[39m=\u001b[39m HeatmapMaker(\u001b[39m'\u001b[39;49m\u001b[39m./waak/data.tsv\u001b[39;49m\u001b[39m'\u001b[39;49m, \u001b[39m'\u001b[39;49m\u001b[39m./waak/waak.mp4\u001b[39;49m\u001b[39m'\u001b[39;49m, \u001b[39m'\u001b[39;49m\u001b[39mtobii\u001b[39;49m\u001b[39m'\u001b[39;49m, panorama\u001b[39m=\u001b[39;49m\u001b[39m'\u001b[39;49m\u001b[39m./waak/waak_panorama.png\u001b[39;49m\u001b[39m'\u001b[39;49m, \u001b[39mfilter\u001b[39;49m\u001b[39m=\u001b[39;49m\u001b[39m7\u001b[39;49m, gpu\u001b[39m=\u001b[39;49m\u001b[39mTrue\u001b[39;49;00m)\n\u001b[0;32m      <a href='vscode-notebook-cell:/c%3A/Users/Arthur/Desktop/StageHITlab/HeatmapClass/Heatmap/gputest.ipynb#ch0000001?line=2'>3</a>\u001b[0m heatmap, pan \u001b[39m=\u001b[39m \u001b[39mmap\u001b[39m\u001b[39m.\u001b[39mmake_heatmap()\n\u001b[0;32m      <a href='vscode-notebook-cell:/c%3A/Users/Arthur/Desktop/StageHITlab/HeatmapClass/Heatmap/gputest.ipynb#ch0000001?line=3'>4</a>\u001b[0m heatmap \u001b[39m=\u001b[39m cv2\u001b[39m.\u001b[39maddWeighted(pan, \u001b[39m1\u001b[39m, heatmap, \u001b[39m1\u001b[39m, \u001b[39m0\u001b[39m)\n",
      "File \u001b[1;32mc:\\Users\\Arthur\\Desktop\\StageHITlab\\HeatmapClass\\Heatmap\\HeatmapMaker.py:23\u001b[0m, in \u001b[0;36mHeatmapMaker.__init__\u001b[1;34m(self, data, video, tracker, threads, scaling, panorama_name, filter, panorama, gpu)\u001b[0m\n\u001b[0;32m     <a href='file:///c%3A/Users/Arthur/Desktop/StageHITlab/HeatmapClass/Heatmap/HeatmapMaker.py?line=19'>20</a>\u001b[0m \u001b[39melse\u001b[39;00m:\n\u001b[0;32m     <a href='file:///c%3A/Users/Arthur/Desktop/StageHITlab/HeatmapClass/Heatmap/HeatmapMaker.py?line=20'>21</a>\u001b[0m     \u001b[39mself\u001b[39m\u001b[39m.\u001b[39mworld_panorama \u001b[39m=\u001b[39m cv2\u001b[39m.\u001b[39mimread(panorama)\n\u001b[1;32m---> <a href='file:///c%3A/Users/Arthur/Desktop/StageHITlab/HeatmapClass/Heatmap/HeatmapMaker.py?line=22'>23</a>\u001b[0m \u001b[39mself\u001b[39m\u001b[39m.\u001b[39mpan_height, \u001b[39mself\u001b[39m\u001b[39m.\u001b[39mpan_width, _ \u001b[39m=\u001b[39m \u001b[39mself\u001b[39;49m\u001b[39m.\u001b[39;49mworld_panorama\u001b[39m.\u001b[39;49mshape\n\u001b[0;32m     <a href='file:///c%3A/Users/Arthur/Desktop/StageHITlab/HeatmapClass/Heatmap/HeatmapMaker.py?line=23'>24</a>\u001b[0m \u001b[39mself\u001b[39m\u001b[39m.\u001b[39mfilter \u001b[39m=\u001b[39m \u001b[39mfilter\u001b[39m\n\u001b[0;32m     <a href='file:///c%3A/Users/Arthur/Desktop/StageHITlab/HeatmapClass/Heatmap/HeatmapMaker.py?line=25'>26</a>\u001b[0m \u001b[39mif\u001b[39;00m gpu:\n",
      "\u001b[1;31mAttributeError\u001b[0m: 'NoneType' object has no attribute 'shape'"
     ]
    }
   ],
   "source": [
    "    map = HeatmapMaker('../waak/data.tsv', '../waak/waak.mp4', 'tobii', panorama='../waak/waak_panorama.png', filter=7, gpu=True)\n",
    "\n",
    "    heatmap, pan = map.make_heatmap()\n",
    "    heatmap = cv2.addWeighted(pan, 1, heatmap, 1, 0)"
   ]
  },
  {
   "cell_type": "code",
   "execution_count": null,
   "metadata": {},
   "outputs": [],
   "source": [
    "    map = HeatmapMaker('./waak/data.tsv', './waak/waak.mp4', 'tobii', panorama='./waak/waak_panorama.png', filter=7, gpu=False)\n",
    "\n",
    "    heatmap, pan = map.make_heatmap()\n",
    "    heatmap = cv2.addWeighted(pan, 1, heatmap, 1, 0)"
   ]
  }
 ],
 "metadata": {
  "interpreter": {
   "hash": "b8480431bb365df6bcb1c44b7387c7b698c6b108659e761b6ab654603c809c5e"
  },
  "kernelspec": {
   "display_name": "Python 3.8.8 ('base')",
   "language": "python",
   "name": "python3"
  },
  "language_info": {
   "codemirror_mode": {
    "name": "ipython",
    "version": 3
   },
   "file_extension": ".py",
   "mimetype": "text/x-python",
   "name": "python",
   "nbconvert_exporter": "python",
   "pygments_lexer": "ipython3",
   "version": "3.10.2"
  },
  "orig_nbformat": 4
 },
 "nbformat": 4,
 "nbformat_minor": 2
}

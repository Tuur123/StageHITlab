{
 "cells": [
  {
   "cell_type": "code",
   "execution_count": 9,
   "metadata": {},
   "outputs": [],
   "source": [
    "import cv2\n",
    "from HeatmapMaker import HeatmapMaker\n",
    "import matplotlib.pyplot as plt"
   ]
  },
  {
   "cell_type": "code",
   "execution_count": 10,
   "metadata": {},
   "outputs": [],
   "source": [
    "def cpu():\n",
    "\n",
    "    # map = HeatmapMaker('../waak/data.tsv', '../waak/waak.mp4', 'tobii', panorama='../waak/waak_panorama.png', filter=7, gpu=False)\n",
    "    map = HeatmapMaker('./pupillabs/gaze_positions.csv', './pupillabs/world.mp4', 'pupillabs', panorama='./pupillabs/panorama.png', filter=7, gpu=False)\n",
    "\n",
    "    heatmap, pan = map.make_heatmap()\n",
    "    heatmap = cv2.addWeighted(pan, 1, heatmap, 1, 0)\n",
    "\n",
    "    plt.imshow(heatmap)\n",
    "    plt.show()"
   ]
  },
  {
   "cell_type": "code",
   "execution_count": 11,
   "metadata": {},
   "outputs": [],
   "source": [
    "def gpu():\n",
    "\n",
    "    # map = HeatmapMaker('../waak/data.tsv', '../waak/waak.mp4', 'tobii', panorama='../waak/waak_panorama.png', filter=7, gpu=True)\n",
    "    map = HeatmapMaker('./pupillabs/gaze_positions.csv', './pupillabs/world.mp4', 'pupillabs', panorama='./pupillabs/panorama.png', filter=7, gpu=True)\n",
    "\n",
    "    heatmap, pan = map.make_heatmap()\n",
    "    heatmap = cv2.addWeighted(pan, 1, heatmap, 1, 0)\n",
    "\n",
    "    plt.imshow(heatmap)\n",
    "    plt.show()"
   ]
  },
  {
   "cell_type": "code",
   "execution_count": 12,
   "metadata": {},
   "outputs": [],
   "source": [
    "%timeit cpu()"
   ]
  },
  {
   "cell_type": "code",
   "execution_count": null,
   "metadata": {},
   "outputs": [],
   "source": [
    "%timeit gpu()"
   ]
  }
 ],
 "metadata": {
  "interpreter": {
   "hash": "b8480431bb365df6bcb1c44b7387c7b698c6b108659e761b6ab654603c809c5e"
  },
  "kernelspec": {
   "display_name": "Python 3.8.8 ('base')",
   "language": "python",
   "name": "python3"
  },
  "language_info": {
   "codemirror_mode": {
    "name": "ipython",
    "version": 3
   },
   "file_extension": ".py",
   "mimetype": "text/x-python",
   "name": "python",
   "nbconvert_exporter": "python",
   "pygments_lexer": "ipython3",
   "version": "3.8.8"
  },
  "orig_nbformat": 4
 },
 "nbformat": 4,
 "nbformat_minor": 2
}

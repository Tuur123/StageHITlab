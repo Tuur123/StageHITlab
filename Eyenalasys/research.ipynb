{
 "cells": [
  {
   "cell_type": "code",
   "execution_count": 1,
   "metadata": {},
   "outputs": [],
   "source": [
    "import pandas as pd"
   ]
  },
  {
   "cell_type": "code",
<<<<<<< HEAD
   "execution_count": 20,
   "metadata": {},
   "outputs": [],
   "source": [
    "data = pd.read_csv('data\\waak\\waak_arthur\\data.tsv', sep='\\t')"
=======
   "execution_count": 2,
   "metadata": {},
   "outputs": [
    {
     "data": {
      "text/plain": [
       "0.1852807764245004"
      ]
     },
     "execution_count": 2,
     "metadata": {},
     "output_type": "execute_result"
    }
   ],
   "source": [
    "export = pd.read_csv('data\\waak\\jh\\export.csv')\n",
    "tobii = pd.read_csv('data\\waak\\jh\\data.tsv', sep='\\t')\n",
    "len(export) / len(tobii)"
   ]
  },
  {
   "cell_type": "code",
   "execution_count": 3,
   "metadata": {},
   "outputs": [
    {
     "data": {
      "text/plain": [
       "0.010445354265769282"
      ]
     },
     "execution_count": 3,
     "metadata": {},
     "output_type": "execute_result"
    }
   ],
   "source": [
    "export = pd.read_csv('data\\waak\\\\test\\export.csv')\n",
    "tobii = pd.read_csv('data\\waak\\\\test\\data.tsv', sep='\\t')\n",
    "len(export) / len(tobii)"
>>>>>>> e73d1941217059d8a24169b21c48fa561102f982
   ]
  }
 ],
 "metadata": {
  "interpreter": {
   "hash": "b8480431bb365df6bcb1c44b7387c7b698c6b108659e761b6ab654603c809c5e"
  },
  "kernelspec": {
   "display_name": "Python 3.8.8 ('base')",
   "language": "python",
   "name": "python3"
  },
  "language_info": {
   "codemirror_mode": {
    "name": "ipython",
    "version": 3
   },
   "file_extension": ".py",
   "mimetype": "text/x-python",
   "name": "python",
   "nbconvert_exporter": "python",
   "pygments_lexer": "ipython3",
<<<<<<< HEAD
   "version": "3.9.10"
=======
   "version": "3.10.2"
>>>>>>> e73d1941217059d8a24169b21c48fa561102f982
  },
  "orig_nbformat": 4
 },
 "nbformat": 4,
 "nbformat_minor": 2
}
